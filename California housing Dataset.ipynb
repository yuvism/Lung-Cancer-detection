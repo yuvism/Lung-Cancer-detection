{
  "cells": [
    {
      "cell_type": "markdown",
      "metadata": {
        "id": "rzkG7sVKi_co"
      },
      "source": [
        "#Hands on Neural Network Project: Vizuara AI Labs\n",
        "\n",
        "\n",
        "\n",
        "\n"
      ]
    },
    {
      "cell_type": "markdown",
      "metadata": {
        "id": "EOUOrFJTi_cs"
      },
      "source": [
        "**Project 1: Fashion Dataset Sorting (Classification)**"
      ]
    },
    {
      "cell_type": "markdown",
      "metadata": {
        "id": "gZuV3AEDi_cs"
      },
      "source": [
        "First let's import TensorFlow and Keras."
      ]
    },
    {
      "cell_type": "code",
      "execution_count": null,
      "metadata": {
        "id": "mir-OyRGi_cs"
      },
      "outputs": [],
      "source": [
        "import tensorflow as tf\n",
        "from tensorflow import keras\n",
        "import numpy as np\n",
        "import matplotlib.pyplot as plt"
      ]
    },
    {
      "cell_type": "markdown",
      "metadata": {
        "id": "oIjPGmhni_ct"
      },
      "source": [
        "Let's start by loading the fashion MNIST dataset. Keras has a number of functions to load popular datasets in `keras.datasets`. The dataset is already split for you between a training set and a test set, but it can be useful to split the training set further to have a validation set:"
      ]
    },
    {
      "cell_type": "code",
      "execution_count": null,
      "metadata": {
        "id": "nCnAOri7i_ct"
      },
      "outputs": [],
      "source": [
        "fashion_mnist = keras.datasets.fashion_mnist\n",
        "(X_train_full, y_train_full), (X_test, y_test) = fashion_mnist.load_data()"
      ]
    },
    {
      "cell_type": "markdown",
      "metadata": {
        "id": "Ql7Lw-lYi_ct"
      },
      "source": [
        "The training set contains 60,000 grayscale images, each 28x28 pixels:"
      ]
    },
    {
      "cell_type": "code",
      "execution_count": null,
      "metadata": {
        "id": "3y2WX70ri_ct",
        "outputId": "476d3010-bae2-47fe-9924-838ce36b2846",
        "colab": {
          "base_uri": "https://localhost:8080/"
        }
      },
      "outputs": [
        {
          "output_type": "execute_result",
          "data": {
            "text/plain": [
              "(60000, 28, 28)"
            ]
          },
          "metadata": {},
          "execution_count": 44
        }
      ],
      "source": [
        "X_train_full.shape"
      ]
    },
    {
      "cell_type": "markdown",
      "metadata": {
        "id": "O1jprZEsi_ct"
      },
      "source": [
        "Each pixel intensity is represented as a byte (0 to 255):"
      ]
    },
    {
      "cell_type": "code",
      "execution_count": null,
      "metadata": {
        "id": "DEBkw0Jji_ct",
        "outputId": "ad1e663d-a332-4e08-dca1-e1f6181fb260",
        "colab": {
          "base_uri": "https://localhost:8080/"
        }
      },
      "outputs": [
        {
          "output_type": "execute_result",
          "data": {
            "text/plain": [
              "dtype('uint8')"
            ]
          },
          "metadata": {},
          "execution_count": 5
        }
      ],
      "source": [
        "X_train_full.dtype"
      ]
    },
    {
      "cell_type": "markdown",
      "metadata": {
        "id": "AdjMr2zri_ct"
      },
      "source": [
        "Let's split the full training set into a validation set and a (smaller) training set. We also scale the pixel intensities down to the 0-1 range and convert them to floats, by dividing by 255."
      ]
    },
    {
      "cell_type": "code",
      "execution_count": null,
      "metadata": {
        "id": "m9oH-AD0i_ct"
      },
      "outputs": [],
      "source": [
        "X_valid, X_train = X_train_full[:5000] / 255., X_train_full[5000:] / 255.\n",
        "y_valid, y_train = y_train_full[:5000], y_train_full[5000:]\n",
        "X_test = X_test / 255."
      ]
    },
    {
      "cell_type": "code",
      "source": [
        "len(X_valid)"
      ],
      "metadata": {
        "colab": {
          "base_uri": "https://localhost:8080/"
        },
        "id": "Ep1sBLxio50e",
        "outputId": "4cea29dd-6733-44f9-d0f3-95524fbc16f1"
      },
      "execution_count": null,
      "outputs": [
        {
          "output_type": "execute_result",
          "data": {
            "text/plain": [
              "5000"
            ]
          },
          "metadata": {},
          "execution_count": 46
        }
      ]
    },
    {
      "cell_type": "markdown",
      "metadata": {
        "id": "4WI8Jd93i_ct"
      },
      "source": [
        "You can plot an image using Matplotlib's `imshow()` function, with a `'binary'`\n",
        " color map:"
      ]
    },
    {
      "cell_type": "code",
      "execution_count": null,
      "metadata": {
        "id": "Eh04qqNgi_ct",
        "outputId": "a0ec841a-09cb-40b7-a0c5-48d420e4aca3",
        "colab": {
          "base_uri": "https://localhost:8080/",
          "height": 406
        }
      },
      "outputs": [
        {
          "output_type": "display_data",
          "data": {
            "text/plain": [
              "<Figure size 640x480 with 1 Axes>"
            ],
            "image/png": "[encoded data removed]"
          },
          "metadata": {}
        }
      ],
      "source": [
        "plt.imshow(X_train[0], cmap=\"binary\")\n",
        "plt.axis('off')\n",
        "plt.show()"
      ]
    },
    {
      "cell_type": "markdown",
      "metadata": {
        "id": "lew8UnG4i_cu"
      },
      "source": [
        "The labels are the class IDs (represented as uint8), from 0 to 9:"
      ]
    },
    {
      "cell_type": "code",
      "execution_count": null,
      "metadata": {
        "id": "OUOn9-Smi_cu",
        "outputId": "d4128f41-d809-405b-ebe0-eec848e94189",
        "colab": {
          "base_uri": "https://localhost:8080/"
        }
      },
      "outputs": [
        {
          "output_type": "execute_result",
          "data": {
            "text/plain": [
              "array([4, 0, 7, ..., 3, 0, 5], dtype=uint8)"
            ]
          },
          "metadata": {},
          "execution_count": 47
        }
      ],
      "source": [
        "y_train"
      ]
    },
    {
      "cell_type": "code",
      "source": [
        "len(y_train)"
      ],
      "metadata": {
        "colab": {
          "base_uri": "https://localhost:8080/"
        },
        "id": "Go7rvcvAGdws",
        "outputId": "3a9775be-2af8-4379-b049-28b532c3e0cb"
      },
      "execution_count": null,
      "outputs": [
        {
          "output_type": "execute_result",
          "data": {
            "text/plain": [
              "55000"
            ]
          },
          "metadata": {},
          "execution_count": 48
        }
      ]
    },
    {
      "cell_type": "code",
      "source": [
        "y_train[0]"
      ],
      "metadata": {
        "colab": {
          "base_uri": "https://localhost:8080/"
        },
        "id": "G5qntrqOG0R0",
        "outputId": "c895d55a-1220-4fcf-a20d-dd8eaa35e11a"
      },
      "execution_count": null,
      "outputs": [
        {
          "output_type": "execute_result",
          "data": {
            "text/plain": [
              "4"
            ]
          },
          "metadata": {},
          "execution_count": 49
        }
      ]
    },
    {
      "cell_type": "markdown",
      "metadata": {
        "id": "u__pw9U3i_cu"
      },
      "source": [
        "Here are the corresponding class names:"
      ]
    },
    {
      "cell_type": "code",
      "execution_count": null,
      "metadata": {
        "id": "4Gxep_E1i_cu"
      },
      "outputs": [],
      "source": [
        "class_names = [\"T-shirt/top\", \"Trouser\", \"Pullover\", \"Dress\", \"Coat\",\n",
        "               \"Sandal\", \"Shirt\", \"Sneaker\", \"Bag\", \"Ankle boot\"]"
      ]
    },
    {
      "cell_type": "markdown",
      "metadata": {
        "id": "XmcpDBNNi_cu"
      },
      "source": [
        "So the first image in the training set is a coat:"
      ]
    },
    {
      "cell_type": "code",
      "execution_count": null,
      "metadata": {
        "id": "zgBA__xmi_cu",
        "outputId": "a8c86772-dceb-40ec-d18f-416223055d1d",
        "colab": {
          "base_uri": "https://localhost:8080/",
          "height": 35
        }
      },
      "outputs": [
        {
          "output_type": "execute_result",
          "data": {
            "text/plain": [
              "'Coat'"
            ],
            "application/vnd.google.colaboratory.intrinsic+json": {
              "type": "string"
            }
          },
          "metadata": {},
          "execution_count": 15
        }
      ],
      "source": [
        "class_names[y_train[0]]"
      ]
    },
    {
      "cell_type": "markdown",
      "metadata": {
        "id": "At1PsGVCi_cu"
      },
      "source": [
        "The validation set contains 5,000 images, and the test set contains 10,000 images:"
      ]
    },
    {
      "cell_type": "code",
      "execution_count": null,
      "metadata": {
        "id": "9afKaVlxi_cu",
        "outputId": "57b3eaa6-e9a4-415b-d286-c9fc8249e359",
        "colab": {
          "base_uri": "https://localhost:8080/"
        }
      },
      "outputs": [
        {
          "output_type": "execute_result",
          "data": {
            "text/plain": [
              "(5000, 28, 28)"
            ]
          },
          "metadata": {},
          "execution_count": 16
        }
      ],
      "source": [
        "X_valid.shape"
      ]
    },
    {
      "cell_type": "code",
      "execution_count": null,
      "metadata": {
        "id": "W7_hr-xqi_cu",
        "outputId": "438e12cb-c509-43ac-b590-a243ed6fa0c0",
        "colab": {
          "base_uri": "https://localhost:8080/"
        }
      },
      "outputs": [
        {
          "output_type": "execute_result",
          "data": {
            "text/plain": [
              "(10000, 28, 28)"
            ]
          },
          "metadata": {},
          "execution_count": 17
        }
      ],
      "source": [
        "X_test.shape"
      ]
    },
    {
      "cell_type": "markdown",
      "metadata": {
        "id": "GcuKhQwbi_cv"
      },
      "source": [
        "Let's take a look at a sample of the images in the dataset:"
      ]
    },
    {
      "cell_type": "code",
      "execution_count": null,
      "metadata": {
        "id": "vndCgWyOi_cv",
        "outputId": "c20b4a01-491e-4284-de32-7e6c9791c3bd",
        "colab": {
          "base_uri": "https://localhost:8080/",
          "height": 428
        }
      },
      "outputs": [
        {
          "output_type": "display_data",
          "data": {
            "text/plain": [
              "<Figure size 1200x480 with 40 Axes>"
            ],
            "image/png": "[encoded data removed]"
          },
          "metadata": {}
        }
      ],
      "source": [
        "n_rows = 4\n",
        "n_cols = 10\n",
        "plt.figure(figsize=(n_cols * 1.2, n_rows * 1.2))\n",
        "for row in range(n_rows):\n",
        "    for col in range(n_cols):\n",
        "        index = n_cols * row + col\n",
        "        plt.subplot(n_rows, n_cols, index + 1)\n",
        "        plt.imshow(X_train[index], cmap=\"binary\", interpolation=\"nearest\")\n",
        "        plt.axis('off')\n",
        "        plt.title(class_names[y_train[index]], fontsize=12)\n",
        "plt.subplots_adjust(wspace=0.2, hspace=0.5)\n",
        "plt.show()"
      ]
    },
    {
      "cell_type": "code",
      "execution_count": null,
      "metadata": {
        "id": "VjgdcQ4ji_cv"
      },
      "outputs": [],
      "source": [
        "model = keras.models.Sequential()\n",
        "model.add(keras.layers.Flatten(input_shape=[28, 28]))\n",
        "model.add(keras.layers.Dense(300, activation=\"relu\"))\n",
        "model.add(keras.layers.Dense(100, activation=\"relu\"))\n",
        "model.add(keras.layers.Dense(10, activation=\"softmax\"))"
      ]
    },
    {
      "cell_type": "code",
      "execution_count": null,
      "metadata": {
        "id": "nnuxgQD0i_cv"
      },
      "outputs": [],
      "source": [
        "keras.backend.clear_session()\n",
        "np.random.seed(42)\n",
        "tf.random.set_seed(42)"
      ]
    },
    {
      "cell_type": "code",
      "execution_count": null,
      "metadata": {
        "id": "BTha-LyGi_cv",
        "outputId": "9d3a6124-015b-4904-8718-59d16b606d49",
        "colab": {
          "base_uri": "https://localhost:8080/"
        }
      },
      "outputs": [
        {
          "output_type": "execute_result",
          "data": {
            "text/plain": [
              "[<keras.src.layers.reshaping.flatten.Flatten at 0x7c3ac8a8e590>,\n",
              " <keras.src.layers.core.dense.Dense at 0x7c3ac8a8e020>,\n",
              " <keras.src.layers.core.dense.Dense at 0x7c3ac8a8c5b0>,\n",
              " <keras.src.layers.core.dense.Dense at 0x7c3ac8a8fa90>]"
            ]
          },
          "metadata": {},
          "execution_count": 52
        }
      ],
      "source": [
        "model.layers"
      ]
    },
    {
      "cell_type": "code",
      "execution_count": null,
      "metadata": {
        "id": "-icQCCAgi_cv",
        "outputId": "5ef6238b-78fd-4805-bfb3-b5e28404ac13",
        "colab": {
          "base_uri": "https://localhost:8080/"
        }
      },
      "outputs": [
        {
          "output_type": "stream",
          "name": "stdout",
          "text": [
            "Model: \"sequential_1\"\n",
            "_________________________________________________________________\n",
            " Layer (type)                Output Shape              Param #   \n",
            "=================================================================\n",
            " flatten_1 (Flatten)         (None, 784)               0         \n",
            "                                                                 \n",
            " dense_3 (Dense)             (None, 300)               235500    \n",
            "                                                                 \n",
            " dense_4 (Dense)             (None, 100)               30100     \n",
            "                                                                 \n",
            " dense_5 (Dense)             (None, 10)                1010      \n",
            "                                                                 \n",
            "=================================================================\n",
            "Total params: 266610 (1.02 MB)\n",
            "Trainable params: 266610 (1.02 MB)\n",
            "Non-trainable params: 0 (0.00 Byte)\n",
            "_________________________________________________________________\n"
          ]
        }
      ],
      "source": [
        "model.summary()"
      ]
    },
    {
      "cell_type": "code",
      "execution_count": null,
      "metadata": {
        "id": "t8eWgH-Ri_cv",
        "outputId": "2a1d92b2-2613-45f3-eb36-14ed2d262cd1",
        "colab": {
          "base_uri": "https://localhost:8080/",
          "height": 533
        }
      },
      "outputs": [
        {
          "output_type": "execute_result",
          "data": {
            "image/png": "[encoded data removed]",
            "text/plain": [
              "<IPython.core.display.Image object>"
            ]
          },
          "metadata": {},
          "execution_count": 54
        }
      ],
      "source": [
        "keras.utils.plot_model(model, \"my_fashion_mnist_model.png\", show_shapes=True)"
      ]
    },
    {
      "cell_type": "code",
      "execution_count": null,
      "metadata": {
        "id": "sjXlrFRai_cw",
        "outputId": "e7804059-ac6d-4c2b-d263-41a604b91942",
        "colab": {
          "base_uri": "https://localhost:8080/",
          "height": 35
        }
      },
      "outputs": [
        {
          "output_type": "execute_result",
          "data": {
            "text/plain": [
              "'dense'"
            ],
            "application/vnd.google.colaboratory.intrinsic+json": {
              "type": "string"
            }
          },
          "metadata": {},
          "execution_count": 25
        }
      ],
      "source": [
        "hidden1 = model.layers[1]\n",
        "hidden1.name"
      ]
    },
    {
      "cell_type": "code",
      "execution_count": null,
      "metadata": {
        "id": "CDEwv6Wei_cw",
        "outputId": "f9dd6994-543f-404c-be1f-bfa77230ee15",
        "colab": {
          "base_uri": "https://localhost:8080/"
        }
      },
      "outputs": [
        {
          "output_type": "execute_result",
          "data": {
            "text/plain": [
              "True"
            ]
          },
          "metadata": {},
          "execution_count": 26
        }
      ],
      "source": [
        "model.get_layer(hidden1.name) is hidden1"
      ]
    },
    {
      "cell_type": "code",
      "execution_count": null,
      "metadata": {
        "id": "k8JyMxvCi_cw"
      },
      "outputs": [],
      "source": [
        "weights, biases = hidden1.get_weights()"
      ]
    },
    {
      "cell_type": "code",
      "execution_count": null,
      "metadata": {
        "id": "htQEV7Hii_cw",
        "outputId": "8fd2ac47-1195-438f-8823-0cef379d0ba9",
        "colab": {
          "base_uri": "https://localhost:8080/"
        }
      },
      "outputs": [
        {
          "output_type": "execute_result",
          "data": {
            "text/plain": [
              "array([[-0.05547573,  0.05219283, -0.04470842, ..., -0.02091905,\n",
              "         0.04866538, -0.0612976 ],\n",
              "       [ 0.04266865, -0.00036068, -0.0105349 , ..., -0.01204414,\n",
              "        -0.03022664,  0.05148147],\n",
              "       [ 0.03384251, -0.0720391 ,  0.05055922, ..., -0.01612951,\n",
              "        -0.00038215, -0.04591045],\n",
              "       ...,\n",
              "       [-0.03103632,  0.0478885 , -0.05481826, ..., -0.07233862,\n",
              "        -0.00248776,  0.07663711],\n",
              "       [ 0.00146075,  0.07297058,  0.01119053, ...,  0.05733179,\n",
              "        -0.01813692,  0.05473914],\n",
              "       [-0.04325661,  0.01617346,  0.00904222, ...,  0.00526305,\n",
              "         0.07360526, -0.03201197]], dtype=float32)"
            ]
          },
          "metadata": {},
          "execution_count": 56
        }
      ],
      "source": [
        "weights"
      ]
    },
    {
      "cell_type": "code",
      "execution_count": null,
      "metadata": {
        "id": "3An6KHr2i_cw",
        "outputId": "d890c101-4ce3-4030-e486-a0bd41e00ecf",
        "colab": {
          "base_uri": "https://localhost:8080/"
        }
      },
      "outputs": [
        {
          "output_type": "execute_result",
          "data": {
            "text/plain": [
              "(784, 300)"
            ]
          },
          "metadata": {},
          "execution_count": 29
        }
      ],
      "source": [
        "weights.shape"
      ]
    },
    {
      "cell_type": "code",
      "execution_count": null,
      "metadata": {
        "id": "uKcPR_uxi_cw",
        "outputId": "405e66c3-dab9-45e0-a4c1-6031d171d530",
        "colab": {
          "base_uri": "https://localhost:8080/"
        }
      },
      "outputs": [
        {
          "output_type": "execute_result",
          "data": {
            "text/plain": [
              "array([ 5.90005070e-02,  4.31531444e-02,  6.22319765e-02,  1.68837234e-01,\n",
              "        2.86225956e-02,  3.42372898e-03,  5.87328300e-02,  1.14061490e-01,\n",
              "        2.72724219e-02,  1.76878348e-02,  3.60301044e-03, -4.41913074e-03,\n",
              "       -3.94258723e-02, -2.24270560e-02,  7.75107741e-03,  9.39263552e-02,\n",
              "        6.70164917e-03, -8.50803871e-03, -3.32093611e-02,  1.15495063e-01,\n",
              "        1.28748953e-01, -1.55473752e-02, -3.53325903e-02,  1.42853096e-01,\n",
              "        6.36484995e-02,  3.00920624e-02,  3.56051438e-02,  2.53752377e-02,\n",
              "        6.87333122e-02, -6.55434374e-03,  1.10442236e-01, -5.20356633e-02,\n",
              "        3.20564583e-02,  8.46019983e-02, -8.89914576e-03, -6.53674006e-02,\n",
              "        3.66501026e-02,  8.36688196e-05, -7.70378411e-02,  7.68430531e-02,\n",
              "       -4.75564972e-02,  1.81467682e-01, -9.44086909e-02, -9.19961184e-03,\n",
              "       -7.08985180e-02,  5.97633272e-02,  8.07300061e-02,  7.73360655e-02,\n",
              "        4.78499644e-02, -3.84364240e-02,  5.29490374e-02, -1.88413411e-02,\n",
              "        1.97065789e-02,  3.33485454e-02,  8.46298859e-02, -1.39308637e-02,\n",
              "        9.24083292e-02,  1.27538204e-01, -5.42305177e-03,  7.30746761e-02,\n",
              "       -2.85997684e-03, -9.49349254e-03,  1.55270964e-01,  4.12940681e-02,\n",
              "        5.20765111e-02,  1.88615173e-01,  2.22903341e-02, -1.40077174e-02,\n",
              "       -1.29416399e-03, -1.27925843e-01,  5.89686371e-02, -5.68390414e-02,\n",
              "       -9.68500599e-02,  1.13947189e-03,  5.28753027e-02,  3.32746399e-03,\n",
              "       -3.32369618e-02, -7.36044720e-02, -2.09408123e-02,  1.03704736e-01,\n",
              "        1.05099671e-01, -1.62713360e-02,  1.37468517e-01, -2.75969952e-02,\n",
              "        5.02713434e-02,  3.94029496e-03,  1.24159055e-02,  2.86650471e-02,\n",
              "        2.34311074e-02, -1.22570693e-02,  1.68202855e-02,  7.58839995e-02,\n",
              "        6.53140396e-02,  1.12985902e-01,  1.22816928e-01, -1.49753848e-02,\n",
              "       -4.99035381e-02,  2.66541876e-02,  2.86447164e-02,  1.16935093e-02,\n",
              "        2.83570178e-02,  8.42796825e-03,  1.48955137e-01,  1.67448953e-01,\n",
              "        4.75236401e-02,  1.12372316e-01, -5.73886298e-02,  6.33679256e-02,\n",
              "        1.32001072e-01, -4.84096399e-03,  8.50473079e-05,  1.27311647e-01,\n",
              "        2.97400486e-02,  4.08845488e-03, -4.11789976e-02,  3.39004770e-02,\n",
              "        2.45523429e-03,  1.30155593e-01,  8.73721018e-03,  6.11637309e-02,\n",
              "       -1.73011515e-02, -2.14958321e-02,  8.31659064e-02,  9.27593783e-02,\n",
              "       -4.00600769e-02,  2.43241880e-02,  9.44289751e-03,  7.40604699e-02,\n",
              "       -6.20998628e-02,  2.98684388e-02,  2.03387123e-02,  5.66763654e-02,\n",
              "       -3.08803574e-04,  5.95260076e-02,  1.13527939e-01,  1.21711783e-01,\n",
              "       -5.48350848e-02,  3.05190720e-02,  1.44114286e-01,  6.43863082e-02,\n",
              "        2.61549326e-03,  1.20141894e-01,  1.71232373e-02,  4.90155108e-02,\n",
              "        1.09583274e-01,  8.56168661e-03,  2.48924345e-02, -1.44468974e-02,\n",
              "       -1.30894370e-02,  4.66488814e-03,  6.25049770e-02,  1.31661534e-01,\n",
              "        7.15952292e-02, -2.08315663e-02,  8.92244503e-02,  4.08616625e-02,\n",
              "       -5.44720851e-02,  7.20382333e-02, -8.49344395e-03,  2.29470003e-02,\n",
              "       -1.00549206e-01,  4.81926352e-02,  3.86158377e-02, -5.66244535e-02,\n",
              "        1.44493505e-01,  7.52281249e-02, -1.50513265e-03,  3.32814008e-02,\n",
              "       -2.85893884e-02,  5.41549884e-02,  3.24999988e-02,  1.51942968e-02,\n",
              "        1.19007982e-01, -5.77204712e-02,  9.01854411e-02,  8.95826425e-03,\n",
              "        4.56023850e-02,  3.11443470e-02,  1.21812476e-02,  2.33303718e-02,\n",
              "        1.00012958e-01,  1.08483747e-01,  7.98385516e-02,  4.00367789e-02,\n",
              "        3.75434309e-02, -4.08107489e-02,  4.64015715e-02, -1.34557101e-03,\n",
              "        4.04331051e-02,  6.25540316e-02,  7.36601353e-02, -2.81910803e-02,\n",
              "        3.94843146e-02,  2.38496941e-02,  3.67044583e-02,  9.68351774e-03,\n",
              "        6.21666908e-02,  6.98203817e-02, -7.36352114e-04,  1.42319307e-01,\n",
              "        7.11244810e-03, -1.84352640e-02,  4.25153300e-02, -1.44730872e-02,\n",
              "        6.15638159e-02,  3.54723888e-03, -1.90371163e-02, -8.00553337e-02,\n",
              "        4.99449223e-02,  3.21343653e-02,  2.17808351e-01, -2.98021026e-02,\n",
              "       -1.96131412e-02,  8.10362846e-02,  5.74002489e-02, -2.63797082e-02,\n",
              "       -2.29551326e-02,  6.27262816e-02,  5.82069457e-02,  5.04636355e-02,\n",
              "       -6.68320432e-03, -3.93156558e-02,  1.80540919e-01, -6.95423186e-02,\n",
              "       -1.18574556e-02, -1.59324147e-02,  1.69678047e-01,  6.71528876e-02,\n",
              "        2.47028053e-01,  1.75568070e-02, -2.51765810e-02, -1.01867933e-02,\n",
              "       -4.05016094e-02,  1.06104560e-01,  5.85046969e-02,  1.53366938e-01,\n",
              "        9.42536816e-02,  1.33191645e-01,  1.20808631e-01,  1.33472984e-03,\n",
              "       -1.36323616e-01,  1.76501144e-02,  3.13181691e-02, -1.56848747e-02,\n",
              "        7.85660744e-02, -6.42572297e-03,  3.47347781e-02,  2.14514866e-01,\n",
              "       -9.80319269e-03,  8.07637349e-03,  1.63682085e-02,  9.21355635e-02,\n",
              "       -1.69979874e-02,  3.78307118e-03,  5.62446266e-02,  8.24216462e-04,\n",
              "       -2.75443681e-02,  9.99851450e-02,  1.01759128e-01,  1.72792688e-01,\n",
              "        2.19599232e-02,  5.98198287e-02,  9.93737299e-03,  5.32951578e-02,\n",
              "       -1.70655139e-02,  1.31718710e-01,  1.26668932e-02,  1.04340248e-01,\n",
              "        5.61607890e-02, -1.37216235e-02, -2.70637423e-02,  3.31151150e-02,\n",
              "        3.92891839e-02,  2.43099295e-02, -1.03538465e-02,  1.84802059e-02,\n",
              "       -1.35525659e-01,  1.54513299e-01,  3.43280509e-02,  9.00344998e-02,\n",
              "        4.17837128e-02, -2.40051243e-02,  8.61214846e-02,  5.73878698e-02,\n",
              "        1.46156847e-02, -5.86994067e-02, -2.24406663e-02,  1.35710597e-01,\n",
              "        6.53171837e-02,  2.28158146e-01,  1.33347943e-01, -7.03518912e-02,\n",
              "       -1.04224809e-01,  8.71689059e-03,  5.60356537e-03,  6.36834800e-02,\n",
              "        2.88057085e-02, -1.58804767e-02,  3.40567827e-02,  5.18423654e-02],\n",
              "      dtype=float32)"
            ]
          },
          "metadata": {},
          "execution_count": 57
        }
      ],
      "source": [
        "biases"
      ]
    },
    {
      "cell_type": "code",
      "execution_count": null,
      "metadata": {
        "id": "vLYR9l0ai_cw",
        "outputId": "f4873686-7733-4b7c-b0ed-c6da6dbb00e2",
        "colab": {
          "base_uri": "https://localhost:8080/"
        }
      },
      "outputs": [
        {
          "output_type": "execute_result",
          "data": {
            "text/plain": [
              "(300,)"
            ]
          },
          "metadata": {},
          "execution_count": 58
        }
      ],
      "source": [
        "biases.shape"
      ]
    },
    {
      "cell_type": "code",
      "execution_count": null,
      "metadata": {
        "id": "NMWVTaVKi_cw"
      },
      "outputs": [],
      "source": [
        "model.compile(loss=\"sparse_categorical_crossentropy\",\n",
        "              optimizer=\"sgd\",\n",
        "              metrics=[\"accuracy\"])"
      ]
    },
    {
      "cell_type": "markdown",
      "metadata": {
        "id": "fQrn-VPHi_cw"
      },
      "source": [
        "This is equivalent to:"
      ]
    },
    {
      "cell_type": "markdown",
      "metadata": {
        "id": "x2H0neoni_cw"
      },
      "source": [
        "```python\n",
        "model.compile(loss=keras.losses.sparse_categorical_crossentropy,\n",
        "              optimizer=keras.optimizers.SGD(),\n",
        "              metrics=[keras.metrics.sparse_categorical_accuracy])\n",
        "```"
      ]
    },
    {
      "cell_type": "code",
      "execution_count": null,
      "metadata": {
        "id": "iD04YGxHi_cw",
        "outputId": "46a09003-29b6-40ac-8261-9b7a07371e48",
        "colab": {
          "base_uri": "https://localhost:8080/"
        }
      },
      "outputs": [
        {
          "output_type": "stream",
          "name": "stdout",
          "text": [
            "Epoch 1/30\n",
            "1719/1719 [==============================] - 10s 5ms/step - loss: 0.7158 - accuracy: 0.7671 - val_loss: 0.5137 - val_accuracy: 0.8244\n",
            "Epoch 2/30\n",
            "1719/1719 [==============================] - 7s 4ms/step - loss: 0.4862 - accuracy: 0.8301 - val_loss: 0.4392 - val_accuracy: 0.8522\n",
            "Epoch 3/30\n",
            "1719/1719 [==============================] - 8s 4ms/step - loss: 0.4412 - accuracy: 0.8458 - val_loss: 0.5342 - val_accuracy: 0.7998\n",
            "Epoch 4/30\n",
            "1719/1719 [==============================] - 7s 4ms/step - loss: 0.4148 - accuracy: 0.8559 - val_loss: 0.3981 - val_accuracy: 0.8662\n",
            "Epoch 5/30\n",
            "1719/1719 [==============================] - 8s 5ms/step - loss: 0.3964 - accuracy: 0.8621 - val_loss: 0.3791 - val_accuracy: 0.8684\n",
            "Epoch 6/30\n",
            "1719/1719 [==============================] - 7s 4ms/step - loss: 0.3783 - accuracy: 0.8667 - val_loss: 0.3778 - val_accuracy: 0.8718\n",
            "Epoch 7/30\n",
            "1719/1719 [==============================] - 8s 5ms/step - loss: 0.3664 - accuracy: 0.8714 - val_loss: 0.3674 - val_accuracy: 0.8738\n",
            "Epoch 8/30\n",
            "1719/1719 [==============================] - 7s 4ms/step - loss: 0.3545 - accuracy: 0.8753 - val_loss: 0.3917 - val_accuracy: 0.8586\n",
            "Epoch 9/30\n",
            "1719/1719 [==============================] - 8s 5ms/step - loss: 0.3446 - accuracy: 0.8789 - val_loss: 0.3608 - val_accuracy: 0.8710\n",
            "Epoch 10/30\n",
            "1719/1719 [==============================] - 6s 4ms/step - loss: 0.3351 - accuracy: 0.8810 - val_loss: 0.3543 - val_accuracy: 0.8716\n",
            "Epoch 11/30\n",
            "1719/1719 [==============================] - 8s 5ms/step - loss: 0.3264 - accuracy: 0.8832 - val_loss: 0.3495 - val_accuracy: 0.8766\n",
            "Epoch 12/30\n",
            "1719/1719 [==============================] - 7s 4ms/step - loss: 0.3173 - accuracy: 0.8866 - val_loss: 0.3417 - val_accuracy: 0.8774\n",
            "Epoch 13/30\n",
            "1719/1719 [==============================] - 8s 4ms/step - loss: 0.3104 - accuracy: 0.8896 - val_loss: 0.3396 - val_accuracy: 0.8766\n",
            "Epoch 14/30\n",
            "1719/1719 [==============================] - 8s 5ms/step - loss: 0.3043 - accuracy: 0.8912 - val_loss: 0.3591 - val_accuracy: 0.8684\n",
            "Epoch 15/30\n",
            "1719/1719 [==============================] - 7s 4ms/step - loss: 0.2965 - accuracy: 0.8945 - val_loss: 0.3299 - val_accuracy: 0.8814\n",
            "Epoch 16/30\n",
            "1719/1719 [==============================] - 8s 5ms/step - loss: 0.2914 - accuracy: 0.8953 - val_loss: 0.3166 - val_accuracy: 0.8830\n",
            "Epoch 17/30\n",
            "1719/1719 [==============================] - 6s 4ms/step - loss: 0.2851 - accuracy: 0.8977 - val_loss: 0.3652 - val_accuracy: 0.8718\n",
            "Epoch 18/30\n",
            "1719/1719 [==============================] - 7s 4ms/step - loss: 0.2792 - accuracy: 0.8999 - val_loss: 0.3248 - val_accuracy: 0.8860\n",
            "Epoch 19/30\n",
            "1719/1719 [==============================] - 6s 4ms/step - loss: 0.2746 - accuracy: 0.9010 - val_loss: 0.3133 - val_accuracy: 0.8870\n",
            "Epoch 20/30\n",
            "1719/1719 [==============================] - 10s 6ms/step - loss: 0.2688 - accuracy: 0.9028 - val_loss: 0.3390 - val_accuracy: 0.8760\n",
            "Epoch 21/30\n",
            "1719/1719 [==============================] - 7s 4ms/step - loss: 0.2637 - accuracy: 0.9043 - val_loss: 0.3072 - val_accuracy: 0.8920\n",
            "Epoch 22/30\n",
            "1719/1719 [==============================] - 8s 5ms/step - loss: 0.2587 - accuracy: 0.9056 - val_loss: 0.3017 - val_accuracy: 0.8928\n",
            "Epoch 23/30\n",
            "1719/1719 [==============================] - 7s 4ms/step - loss: 0.2546 - accuracy: 0.9081 - val_loss: 0.3042 - val_accuracy: 0.8900\n",
            "Epoch 24/30\n",
            "1719/1719 [==============================] - 8s 4ms/step - loss: 0.2497 - accuracy: 0.9098 - val_loss: 0.3146 - val_accuracy: 0.8888\n",
            "Epoch 25/30\n",
            "1719/1719 [==============================] - 7s 4ms/step - loss: 0.2456 - accuracy: 0.9110 - val_loss: 0.3026 - val_accuracy: 0.8922\n",
            "Epoch 26/30\n",
            "1719/1719 [==============================] - 7s 4ms/step - loss: 0.2409 - accuracy: 0.9134 - val_loss: 0.3058 - val_accuracy: 0.8878\n",
            "Epoch 27/30\n",
            "1719/1719 [==============================] - 8s 4ms/step - loss: 0.2376 - accuracy: 0.9157 - val_loss: 0.3047 - val_accuracy: 0.8930\n",
            "Epoch 28/30\n",
            "1719/1719 [==============================] - 7s 4ms/step - loss: 0.2338 - accuracy: 0.9158 - val_loss: 0.3110 - val_accuracy: 0.8862\n",
            "Epoch 29/30\n",
            "1719/1719 [==============================] - 8s 5ms/step - loss: 0.2302 - accuracy: 0.9168 - val_loss: 0.3087 - val_accuracy: 0.8854\n",
            "Epoch 30/30\n",
            "1719/1719 [==============================] - 7s 4ms/step - loss: 0.2260 - accuracy: 0.9189 - val_loss: 0.3145 - val_accuracy: 0.8898\n"
          ]
        }
      ],
      "source": [
        "history = model.fit(X_train, y_train, epochs=30,\n",
        "                    validation_data=(X_valid, y_valid))"
      ]
    },
    {
      "cell_type": "code",
      "execution_count": null,
      "metadata": {
        "id": "WkF6be10i_cx",
        "outputId": "23a4d4ba-ce22-4f7f-a2c4-69cf43c09da4",
        "colab": {
          "base_uri": "https://localhost:8080/"
        }
      },
      "outputs": [
        {
          "output_type": "execute_result",
          "data": {
            "text/plain": [
              "{'verbose': 1, 'epochs': 30, 'steps': 1719}"
            ]
          },
          "metadata": {},
          "execution_count": 34
        }
      ],
      "source": [
        "history.params"
      ]
    },
    {
      "cell_type": "code",
      "execution_count": null,
      "metadata": {
        "id": "kxodEcQ0i_cx",
        "outputId": "436f3964-c976-4956-84bf-cec9e203191f",
        "colab": {
          "base_uri": "https://localhost:8080/"
        }
      },
      "outputs": [
        {
          "output_type": "stream",
          "name": "stdout",
          "text": [
            "[0, 1, 2, 3, 4, 5, 6, 7, 8, 9, 10, 11, 12, 13, 14, 15, 16, 17, 18, 19, 20, 21, 22, 23, 24, 25, 26, 27, 28, 29]\n"
          ]
        }
      ],
      "source": [
        "print(history.epoch)"
      ]
    },
    {
      "cell_type": "code",
      "execution_count": null,
      "metadata": {
        "id": "q9GfVKMoi_cx",
        "outputId": "8dd92818-2be9-4796-f57e-9a63a38026d0",
        "colab": {
          "base_uri": "https://localhost:8080/"
        }
      },
      "outputs": [
        {
          "output_type": "execute_result",
          "data": {
            "text/plain": [
              "dict_keys(['loss', 'accuracy', 'val_loss', 'val_accuracy'])"
            ]
          },
          "metadata": {},
          "execution_count": 36
        }
      ],
      "source": [
        "history.history.keys()"
      ]
    },
    {
      "cell_type": "code",
      "execution_count": null,
      "metadata": {
        "id": "yAx0BN6Wi_cx",
        "outputId": "b606d716-fd94-47ec-abf4-1d2bc1e4fcd0",
        "colab": {
          "base_uri": "https://localhost:8080/",
          "height": 451
        }
      },
      "outputs": [
        {
          "output_type": "display_data",
          "data": {
            "text/plain": [
              "<Figure size 800x500 with 1 Axes>"
            ],
            "image/png": "[encoded data removed]"
          },
          "metadata": {}
        }
      ],
      "source": [
        "import pandas as pd\n",
        "\n",
        "pd.DataFrame(history.history).plot(figsize=(8, 5))\n",
        "plt.grid(True)\n",
        "plt.gca().set_ylim(0, 1)\n",
        "plt.show()"
      ]
    },
    {
      "cell_type": "code",
      "execution_count": null,
      "metadata": {
        "id": "0IjOdALWi_cx",
        "outputId": "7b7fd8e0-89d6-48e7-b157-6254aed1bf07",
        "colab": {
          "base_uri": "https://localhost:8080/"
        }
      },
      "outputs": [
        {
          "output_type": "stream",
          "name": "stdout",
          "text": [
            "313/313 [==============================] - 1s 3ms/step - loss: 0.3446 - accuracy: 0.8784\n"
          ]
        },
        {
          "output_type": "execute_result",
          "data": {
            "text/plain": [
              "[0.34455999732017517, 0.8784000277519226]"
            ]
          },
          "metadata": {},
          "execution_count": 38
        }
      ],
      "source": [
        "model.evaluate(X_test, y_test)"
      ]
    },
    {
      "cell_type": "markdown",
      "source": [
        "##TESTING"
      ],
      "metadata": {
        "id": "6AI0Pog8MdEH"
      }
    },
    {
      "cell_type": "code",
      "execution_count": null,
      "metadata": {
        "id": "03s8ED3Ri_cx"
      },
      "outputs": [],
      "source": [
        "X_new = X_test[:3]"
      ]
    },
    {
      "cell_type": "markdown",
      "source": [
        "**This is how the test data looks like**"
      ],
      "metadata": {
        "id": "yPoK8YvzOE06"
      }
    },
    {
      "cell_type": "code",
      "source": [
        "plt.figure(figsize=(7.2, 2.4))\n",
        "for index, image in enumerate(X_new):\n",
        "    plt.subplot(1, 3, index + 1)\n",
        "    plt.imshow(image, cmap=\"binary\", interpolation=\"nearest\")\n",
        "plt.subplots_adjust(wspace=0.2, hspace=0.5)\n",
        "plt.show()"
      ],
      "metadata": {
        "colab": {
          "base_uri": "https://localhost:8080/",
          "height": 227
        },
        "id": "MA1a_m6KMq1z",
        "outputId": "a4ce5ee0-9ac2-4038-d0a4-6c7dc4cbebe9"
      },
      "execution_count": null,
      "outputs": [
        {
          "output_type": "display_data",
          "data": {
            "text/plain": [
              "<Figure size 720x240 with 3 Axes>"
            ],
            "image/png": "[encoded data removed]"
          },
          "metadata": {}
        }
      ]
    },
    {
      "cell_type": "markdown",
      "metadata": {
        "id": "ZTibBGnhi_cx"
      },
      "source": [
        "**Warning**: `model.predict_classes(X_new)` is deprecated. It is replaced with `np.argmax(model.predict(X_new), axis=-1)`."
      ]
    },
    {
      "cell_type": "markdown",
      "source": [
        "**Let's see what our neural network predicts**"
      ],
      "metadata": {
        "id": "xGye_UfdOId7"
      }
    },
    {
      "cell_type": "code",
      "execution_count": null,
      "metadata": {
        "id": "-4cxq5_Ni_cx",
        "outputId": "ce5f468c-eecd-4e2d-da40-db31991bbaa7",
        "colab": {
          "base_uri": "https://localhost:8080/"
        }
      },
      "outputs": [
        {
          "output_type": "stream",
          "name": "stdout",
          "text": [
            "1/1 [==============================] - 0s 37ms/step\n"
          ]
        },
        {
          "output_type": "execute_result",
          "data": {
            "text/plain": [
              "array([9, 2, 1])"
            ]
          },
          "metadata": {},
          "execution_count": 38
        }
      ],
      "source": [
        "#y_pred = model.predict_classes(X_new) # deprecated\n",
        "y_pred = np.argmax(model.predict(X_new), axis=-1)\n",
        "y_pred"
      ]
    },
    {
      "cell_type": "code",
      "execution_count": null,
      "metadata": {
        "id": "r0_naPcOi_cx",
        "outputId": "7792f5ff-a528-48a5-d101-0da20a336aad",
        "colab": {
          "base_uri": "https://localhost:8080/"
        }
      },
      "outputs": [
        {
          "output_type": "execute_result",
          "data": {
            "text/plain": [
              "array(['Ankle boot', 'Pullover', 'Trouser'], dtype='<U11')"
            ]
          },
          "metadata": {},
          "execution_count": 39
        }
      ],
      "source": [
        "np.array(class_names)[y_pred]"
      ]
    },
    {
      "cell_type": "code",
      "execution_count": null,
      "metadata": {
        "id": "2bEzZMd6i_cx",
        "outputId": "3077444a-79c4-4417-f53d-a4991951bd17",
        "colab": {
          "base_uri": "https://localhost:8080/"
        }
      },
      "outputs": [
        {
          "output_type": "execute_result",
          "data": {
            "text/plain": [
              "array([9, 2, 1], dtype=uint8)"
            ]
          },
          "metadata": {},
          "execution_count": 40
        }
      ],
      "source": [
        "y_new = y_test[:3]\n",
        "y_new"
      ]
    },
    {
      "cell_type": "code",
      "execution_count": null,
      "metadata": {
        "id": "ZWjPABo3i_cz",
        "outputId": "e3995e94-4443-4ae4-f8d3-dde76c0c0033",
        "colab": {
          "base_uri": "https://localhost:8080/",
          "height": 241
        }
      },
      "outputs": [
        {
          "output_type": "stream",
          "name": "stdout",
          "text": [
            "Saving figure fashion_mnist_images_plot\n"
          ]
        },
        {
          "output_type": "display_data",
          "data": {
            "text/plain": [
              "<Figure size 720x240 with 3 Axes>"
            ],
            "image/png": "[encoded data removed]"
          },
          "metadata": {}
        }
      ],
      "source": [
        "plt.figure(figsize=(7.2, 2.4))\n",
        "for index, image in enumerate(X_new):\n",
        "    plt.subplot(1, 3, index + 1)\n",
        "    plt.imshow(image, cmap=\"binary\", interpolation=\"nearest\")\n",
        "    plt.axis('off')\n",
        "    plt.title(class_names[y_test[index]], fontsize=12)\n",
        "plt.subplots_adjust(wspace=0.2, hspace=0.5)\n",
        "plt.show()"
      ]
    },
    {
      "cell_type": "markdown",
      "source": [
        "**Awesome! We obtained perfect results :)**\n"
      ],
      "metadata": {
        "id": "vOnS2tXsOSnu"
      }
    },
    {
      "cell_type": "markdown",
      "source": [
        "#Hands on Neural Network Project: Vizuara AI Labs\n"
      ],
      "metadata": {
        "id": "mfepDTY33BDJ"
      }
    },
    {
      "cell_type": "markdown",
      "metadata": {
        "id": "xOqObuz4i_cz"
      },
      "source": [
        "##Project : California housing price predictor (Regression)"
      ]
    },
    {
      "cell_type": "markdown",
      "source": [
        "*The 8 input features are the following:*\n",
        "\n",
        "**MedInc:** median income in block group\n",
        "\n",
        "**HouseAge:** median house age in block group\n",
        "\n",
        "**AveRooms:** average number of rooms per household\n",
        "\n",
        "**AveBedrms:** average number of bedrooms per household\n",
        "\n",
        "**Population:** block group population\n",
        "\n",
        "**AveOccup:** average number of household members\n",
        "\n",
        "**Latitude:** block group latitude\n",
        "\n",
        "**Longitude:** block group longitude\n",
        "\n",
        "*The target variable is a scalar: the median house value for California districts, in dollars.*\n"
      ],
      "metadata": {
        "id": "PSHTN6Q8eqoC"
      }
    },
    {
      "cell_type": "markdown",
      "metadata": {
        "id": "H-o690m7i_cz"
      },
      "source": [
        "Let's load, split and scale the California housing dataset:"
      ]
    },
    {
      "cell_type": "code",
      "source": [
        "import tensorflow as tf\n",
        "from tensorflow import keras\n",
        "import numpy as np\n",
        "import matplotlib.pyplot as plt\n",
        "import pandas as pd"
      ],
      "metadata": {
        "id": "pReVeHCndRAu"
      },
      "execution_count": 32,
      "outputs": []
    },
    {
      "cell_type": "code",
      "execution_count": 46,
      "metadata": {
        "id": "73FCBO34i_cz"
      },
      "outputs": [],
      "source": [
        "from sklearn.datasets import fetch_california_housing\n",
        "from sklearn.model_selection import train_test_split\n",
        "from sklearn.preprocessing import StandardScaler\n",
        "\n",
        "housing = fetch_california_housing()\n",
        "\n",
        "X_train_full, X_test, y_train_full, y_test = train_test_split(housing.data, housing.target, random_state=42)\n",
        "X_train, X_valid, y_train, y_valid = train_test_split(X_train_full, y_train_full, random_state=42)"
      ]
    },
    {
      "cell_type": "code",
      "source": [
        "len(X_train_full)"
      ],
      "metadata": {
        "colab": {
          "base_uri": "https://localhost:8080/"
        },
        "id": "mYz9FVSiceUK",
        "outputId": "a9b3c20a-3496-4ae2-8012-0eb596e31c8b"
      },
      "execution_count": 34,
      "outputs": [
        {
          "output_type": "execute_result",
          "data": {
            "text/plain": [
              "15480"
            ]
          },
          "metadata": {},
          "execution_count": 34
        }
      ]
    },
    {
      "cell_type": "code",
      "source": [
        "len(X_test)"
      ],
      "metadata": {
        "colab": {
          "base_uri": "https://localhost:8080/"
        },
        "id": "oXfAqIgX5oBC",
        "outputId": "27df02b8-945e-4619-c373-56fb22e6339a"
      },
      "execution_count": 35,
      "outputs": [
        {
          "output_type": "execute_result",
          "data": {
            "text/plain": [
              "5160"
            ]
          },
          "metadata": {},
          "execution_count": 35
        }
      ]
    },
    {
      "cell_type": "code",
      "source": [
        "len(X_valid)"
      ],
      "metadata": {
        "colab": {
          "base_uri": "https://localhost:8080/"
        },
        "id": "MDj2w-bK5tme",
        "outputId": "1feccda3-5fe8-4042-bb54-59cfe74a946f"
      },
      "execution_count": 36,
      "outputs": [
        {
          "output_type": "execute_result",
          "data": {
            "text/plain": [
              "3870"
            ]
          },
          "metadata": {},
          "execution_count": 36
        }
      ]
    },
    {
      "cell_type": "code",
      "source": [
        "len(X_train)"
      ],
      "metadata": {
        "colab": {
          "base_uri": "https://localhost:8080/"
        },
        "id": "9JX160Bs5yI8",
        "outputId": "2ace916a-0f4f-462f-c8e2-1d353e0d8e95"
      },
      "execution_count": 37,
      "outputs": [
        {
          "output_type": "execute_result",
          "data": {
            "text/plain": [
              "11610"
            ]
          },
          "metadata": {},
          "execution_count": 37
        }
      ]
    },
    {
      "cell_type": "code",
      "source": [
        "# Convert X_train into a DataFrame with attribute names\n",
        "df_train = pd.DataFrame(X_train, columns=housing.feature_names)\n",
        "\n",
        "# Print the DataFrame\n",
        "print(df_train.head())  # Print the first few rows of the DataFrame\n"
      ],
      "metadata": {
        "colab": {
          "base_uri": "https://localhost:8080/"
        },
        "id": "YCWa8jPxfEbP",
        "outputId": "ad48b0c3-d1c6-472e-f151-418f31c77530"
      },
      "execution_count": 40,
      "outputs": [
        {
          "output_type": "stream",
          "name": "stdout",
          "text": [
            "   MedInc  HouseAge  AveRooms  AveBedrms  Population  AveOccup  Latitude  \\\n",
            "0  3.5214      15.0  3.049945   1.106548      1447.0  1.605993     37.63   \n",
            "1  5.3275       5.0  6.490060   0.991054      3464.0  3.443340     33.69   \n",
            "2  3.1000      29.0  7.542373   1.591525      1328.0  2.250847     38.44   \n",
            "3  7.1736      12.0  6.289003   0.997442      1054.0  2.695652     33.55   \n",
            "4  2.0549      13.0  5.312457   1.085092      3297.0  2.244384     33.93   \n",
            "\n",
            "   Longitude  \n",
            "0    -122.43  \n",
            "1    -117.39  \n",
            "2    -122.98  \n",
            "3    -117.70  \n",
            "4    -116.93  \n"
          ]
        }
      ]
    },
    {
      "cell_type": "markdown",
      "source": [
        "Let us standardize the data"
      ],
      "metadata": {
        "id": "5MezZ9hEhgRw"
      }
    },
    {
      "cell_type": "code",
      "source": [
        "scaler = StandardScaler()\n",
        "X_train = scaler.fit_transform(X_train)\n",
        "X_valid = scaler.transform(X_valid)\n",
        "X_test = scaler.transform(X_test)"
      ],
      "metadata": {
        "id": "CKri5ezPgraO"
      },
      "execution_count": 47,
      "outputs": []
    },
    {
      "cell_type": "code",
      "source": [
        "len(X_train)"
      ],
      "metadata": {
        "colab": {
          "base_uri": "https://localhost:8080/"
        },
        "id": "F_YsjUFGc0No",
        "outputId": "e63d5f1c-4cdf-48b8-e068-c59b6906ac72"
      },
      "execution_count": 26,
      "outputs": [
        {
          "output_type": "execute_result",
          "data": {
            "text/plain": [
              "11610"
            ]
          },
          "metadata": {},
          "execution_count": 26
        }
      ]
    },
    {
      "cell_type": "code",
      "source": [
        "len(X_valid)"
      ],
      "metadata": {
        "colab": {
          "base_uri": "https://localhost:8080/"
        },
        "id": "JJRzc8Wbc3F5",
        "outputId": "4551eb96-7d0e-4be7-8b8f-1e0ec49d0738"
      },
      "execution_count": 27,
      "outputs": [
        {
          "output_type": "execute_result",
          "data": {
            "text/plain": [
              "3870"
            ]
          },
          "metadata": {},
          "execution_count": 27
        }
      ]
    },
    {
      "cell_type": "code",
      "execution_count": 48,
      "metadata": {
        "id": "bUtB0N33i_c0"
      },
      "outputs": [],
      "source": [
        "np.random.seed(42)\n",
        "tf.random.set_seed(42)"
      ]
    },
    {
      "cell_type": "markdown",
      "source": [
        "Let us now define the model architecture"
      ],
      "metadata": {
        "id": "t5bpT4SuhmyD"
      }
    },
    {
      "cell_type": "code",
      "execution_count": 49,
      "metadata": {
        "id": "4_3_d2hqi_c0",
        "outputId": "1c3898ee-4e61-489a-a574-b067a3d86ca1",
        "colab": {
          "base_uri": "https://localhost:8080/"
        }
      },
      "outputs": [
        {
          "output_type": "stream",
          "name": "stdout",
          "text": [
            "Epoch 1/20\n",
            "363/363 [==============================] - 1s 2ms/step - loss: 2.3995 - val_loss: 1.9867\n",
            "Epoch 2/20\n",
            "363/363 [==============================] - 1s 2ms/step - loss: 0.6861 - val_loss: 0.6335\n",
            "Epoch 3/20\n",
            "363/363 [==============================] - 1s 2ms/step - loss: 0.6031 - val_loss: 0.5723\n",
            "Epoch 4/20\n",
            "363/363 [==============================] - 1s 2ms/step - loss: 0.5756 - val_loss: 0.5269\n",
            "Epoch 5/20\n",
            "363/363 [==============================] - 1s 2ms/step - loss: 0.5526 - val_loss: 0.5069\n",
            "Epoch 6/20\n",
            "363/363 [==============================] - 1s 2ms/step - loss: 0.5315 - val_loss: 0.4916\n",
            "Epoch 7/20\n",
            "363/363 [==============================] - 1s 2ms/step - loss: 0.5138 - val_loss: 0.4820\n",
            "Epoch 8/20\n",
            "363/363 [==============================] - 1s 2ms/step - loss: 0.4988 - val_loss: 0.4607\n",
            "Epoch 9/20\n",
            "363/363 [==============================] - 1s 3ms/step - loss: 0.4851 - val_loss: 0.4473\n",
            "Epoch 10/20\n",
            "363/363 [==============================] - 1s 3ms/step - loss: 0.4741 - val_loss: 0.4447\n",
            "Epoch 11/20\n",
            "363/363 [==============================] - 1s 3ms/step - loss: 0.4655 - val_loss: 0.4447\n",
            "Epoch 12/20\n",
            "363/363 [==============================] - 1s 3ms/step - loss: 0.4574 - val_loss: 0.4250\n",
            "Epoch 13/20\n",
            "363/363 [==============================] - 1s 2ms/step - loss: 0.4512 - val_loss: 0.4158\n",
            "Epoch 14/20\n",
            "363/363 [==============================] - 1s 2ms/step - loss: 0.4454 - val_loss: 0.4117\n",
            "Epoch 15/20\n",
            "363/363 [==============================] - 1s 2ms/step - loss: 0.4402 - val_loss: 0.4104\n",
            "Epoch 16/20\n",
            "363/363 [==============================] - 1s 2ms/step - loss: 0.4358 - val_loss: 0.4024\n",
            "Epoch 17/20\n",
            "363/363 [==============================] - 1s 2ms/step - loss: 0.4321 - val_loss: 0.4019\n",
            "Epoch 18/20\n",
            "363/363 [==============================] - 1s 2ms/step - loss: 0.4285 - val_loss: 0.4081\n",
            "Epoch 19/20\n",
            "363/363 [==============================] - 1s 2ms/step - loss: 0.4251 - val_loss: 0.3985\n",
            "Epoch 20/20\n",
            "363/363 [==============================] - 1s 2ms/step - loss: 0.4225 - val_loss: 0.4056\n"
          ]
        }
      ],
      "source": [
        "model = keras.models.Sequential([\n",
        "    keras.layers.Dense(30, activation=\"relu\", input_shape=X_train.shape[1:]),\n",
        "    keras.layers.Dense(1)\n",
        "])\n",
        "model.compile(loss=\"mean_squared_error\", optimizer=keras.optimizers.SGD(learning_rate=1e-3))\n",
        "history = model.fit(X_train, y_train, epochs=20, validation_data=(X_valid, y_valid))"
      ]
    },
    {
      "cell_type": "code",
      "source": [
        "# Plot the loss\n",
        "plt.plot(history.history['loss'], label='Training loss')\n",
        "plt.plot(history.history['val_loss'], label='Validation loss')\n",
        "plt.legend()\n",
        "plt.xlabel('Epochs')\n",
        "plt.ylabel('Loss')\n",
        "plt.title('Training and Validation Loss')\n",
        "plt.show()"
      ],
      "metadata": {
        "colab": {
          "base_uri": "https://localhost:8080/",
          "height": 472
        },
        "id": "405uxpNUmRy2",
        "outputId": "7afbb1d5-8321-4000-a109-163811a2dd80"
      },
      "execution_count": 50,
      "outputs": [
        {
          "output_type": "display_data",
          "data": {
            "text/plain": [
              "<Figure size 640x480 with 1 Axes>"
            ],
            "image/png": "[encoded data removed]"
          },
          "metadata": {}
        }
      ]
    },
    {
      "cell_type": "markdown",
      "source": [
        "Let us evaluate the model testing performance"
      ],
      "metadata": {
        "id": "963l10oShryj"
      }
    },
    {
      "cell_type": "code",
      "source": [
        "# Evaluate the model on the test set\n",
        "mse_test = model.evaluate(X_test, y_test)"
      ],
      "metadata": {
        "colab": {
          "base_uri": "https://localhost:8080/"
        },
        "id": "tQcRFozmmSCQ",
        "outputId": "7cb41310-06bf-4da4-8480-d7bf80d61fa3"
      },
      "execution_count": 51,
      "outputs": [
        {
          "output_type": "stream",
          "name": "stdout",
          "text": [
            "162/162 [==============================] - 0s 2ms/step - loss: 0.4192\n"
          ]
        }
      ]
    },
    {
      "cell_type": "code",
      "source": [
        "\n",
        "# Make predictions on new data\n",
        "X_new = X_test[:3]\n",
        "y_pred = model.predict(X_new)\n",
        "\n",
        "# Compare predictions with actual values\n",
        "for i in range(len(X_new)):\n",
        "    print(f\"Sample {i+1}:\")\n",
        "    print(f\"Predicted: {y_pred[i][0]}\")\n",
        "    print(f\"Actual: {y_test[i]}\")"
      ],
      "metadata": {
        "colab": {
          "base_uri": "https://localhost:8080/"
        },
        "id": "uAFis-W8dJRP",
        "outputId": "66879e94-3023-4e21-8acd-ada4e84982fb"
      },
      "execution_count": 31,
      "outputs": [
        {
          "output_type": "stream",
          "name": "stdout",
          "text": [
            "1/1 [==============================] - 0s 61ms/step\n",
            "Sample 1:\n",
            "Predicted: 0.7479265332221985\n",
            "Actual: 0.477\n",
            "Sample 2:\n",
            "Predicted: 1.6871938705444336\n",
            "Actual: 0.458\n",
            "Sample 3:\n",
            "Predicted: 3.6486470699310303\n",
            "Actual: 5.00001\n"
          ]
        }
      ]
    }
  ],
  "metadata": {
    "kernelspec": {
      "display_name": "Python 3",
      "language": "python",
      "name": "python3"
    },
    "language_info": {
      "codemirror_mode": {
        "name": "ipython",
        "version": 3
      },
      "file_extension": ".py",
      "mimetype": "text/x-python",
      "name": "python",
      "nbconvert_exporter": "python",
      "pygments_lexer": "ipython3",
      "version": "3.7.10"
    },
    "nav_menu": {
      "height": "264px",
      "width": "369px"
    },
    "toc": {
      "navigate_menu": true,
      "number_sections": true,
      "sideBar": true,
      "threshold": 6,
      "toc_cell": false,
      "toc_section_display": "block",
      "toc_window_display": false
    },
    "colab": {
      "provenance": []
    }
  },
  "nbformat": 4,
  "nbformat_minor": 0
}